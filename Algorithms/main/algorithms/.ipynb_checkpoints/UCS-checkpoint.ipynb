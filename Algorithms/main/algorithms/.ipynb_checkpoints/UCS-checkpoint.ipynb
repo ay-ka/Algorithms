{
 "cells": [
  {
   "cell_type": "code",
   "execution_count": 1,
   "id": "501657dd",
   "metadata": {},
   "outputs": [],
   "source": [
    "import numpy\n",
    "\n",
    "import math\n",
    "\n",
    "import pdb\n",
    "\n",
    "from abc import ABC, abstractmethod\n",
    "\n",
    "from collections import Counter"
   ]
  },
  {
   "cell_type": "markdown",
   "id": "481e828a",
   "metadata": {},
   "source": [
    "### Base Class"
   ]
  },
  {
   "cell_type": "code",
   "execution_count": 2,
   "id": "427ee6af",
   "metadata": {},
   "outputs": [],
   "source": [
    "class Algo(ABC):\n",
    "    \n",
    "    def __init__(self):\n",
    "        \n",
    "        pass\n",
    "    \n",
    "    def getData(self, file_path):\n",
    "        \n",
    "        data = {}\n",
    "        \n",
    "        with open(file_path, \"r\") as f:\n",
    "            \n",
    "            line = f.readline()  \n",
    "            \n",
    "            line = line.strip()\n",
    "            \n",
    "            key_value_cost = line.split()\n",
    "            \n",
    "            while line != \"\":\n",
    "                \n",
    "                key, value, cost = key_value_cost[0], key_value_cost[1], key_value_cost[2]\n",
    "                \n",
    "                if data.get(key) is None and data.get(value) is None:\n",
    "\n",
    "                    data[key] = {value : int(cost)}\n",
    "                    \n",
    "                    data[value] = {key : int(cost)}\n",
    "\n",
    "                elif data.get(key) is None:\n",
    "                    \n",
    "                    data[key] = {value : int(cost)}\n",
    "                    \n",
    "                    data[value].update({key : int(cost)})\n",
    "                    \n",
    "                elif data.get(value) is None:\n",
    "                    \n",
    "                    data[value] = {key : int(cost)}\n",
    "                    \n",
    "                    data[key].update({value : int(cost)})\n",
    "                    \n",
    "                else:\n",
    "                    \n",
    "                    data[value].update({key : int(cost)})\n",
    "\n",
    "                    data[key].update({value : int(cost)})\n",
    "\n",
    "                line = f.readline()\n",
    "\n",
    "                line = line.strip()\n",
    "\n",
    "                key_value_cost = line.split()\n",
    "\n",
    "        return data\n",
    "    \n",
    "    @abstractmethod\n",
    "    def Search(self, data):\n",
    "        \n",
    "        pass\n",
    "    \n",
    "    @abstractmethod\n",
    "    def checkVisited(self):\n",
    "        \n",
    "        pass"
   ]
  },
  {
   "cell_type": "markdown",
   "id": "4ed7ffcb",
   "metadata": {},
   "source": [
    "### UCS implementation"
   ]
  },
  {
   "cell_type": "code",
   "execution_count": 3,
   "id": "586cd5ee",
   "metadata": {},
   "outputs": [],
   "source": [
    "class UCS(Algo):\n",
    "    \n",
    "    def __init__(self):\n",
    "        \n",
    "        super(UCS, self).__init__()\n",
    "        \n",
    "    def Search(self, data, start, goal):\n",
    "        \n",
    "        visited, options, solutions = [], {}, {}\n",
    "        \n",
    "        current_node = start\n",
    "        \n",
    "        visited.append(start)\n",
    "        \n",
    "        adjacency_nodes = list(data.get(current_node).keys())\n",
    "        \n",
    "        valid_keys = self.checkVisited(adjacency_nodes, visited)\n",
    "        \n",
    "        options = {(current_node, key) : data.get(current_node)[key] for key in valid_keys}\n",
    "        \n",
    "        index = 1\n",
    "\n",
    "        while len(list(options.keys())):\n",
    "            \n",
    "            (cost, path) = self.pickNode(options)\n",
    "            \n",
    "            current_node = path[-1]\n",
    "            \n",
    "            visited.append(current_node)\n",
    "            \n",
    "            if current_node == goal:\n",
    "                \n",
    "                solutions[\"solution_\" + str(index)] = {\"path\" : path, \"cost\" : cost}\n",
    "                \n",
    "                index += 1\n",
    "                \n",
    "                del options[path]\n",
    "                \n",
    "                continue\n",
    "            \n",
    "            if data.get(current_node) is None:\n",
    "                \n",
    "                del options[path]\n",
    "                \n",
    "            else:\n",
    "            \n",
    "                adjacency_nodes = list(data.get(current_node).keys())\n",
    "            \n",
    "                valid_keys = self.checkVisited(adjacency_nodes, visited)\n",
    "            \n",
    "                path_cost = options[path]\n",
    "            \n",
    "                del options[path]\n",
    "            \n",
    "                options.update({path + (key,) : path_cost + data.get(current_node)[key] for key in valid_keys})\n",
    "                \n",
    "        return solutions\n",
    "    \n",
    "    def checkVisited(self, adjacency_nodes, visited):\n",
    "        \n",
    "        return list(filter(lambda x : not(x in visited), adjacency_nodes))\n",
    "    \n",
    "    def pickNode(self, options):\n",
    "      \n",
    "        selection_list = [(cost, path) for path, cost in options.items()]\n",
    "        \n",
    "        selection_list = sorted(selection_list)\n",
    "        \n",
    "        return selection_list[0]"
   ]
  },
  {
   "cell_type": "markdown",
   "id": "e7c6655d",
   "metadata": {},
   "source": [
    "### TEST"
   ]
  },
  {
   "cell_type": "code",
   "execution_count": 4,
   "id": "91965c60",
   "metadata": {},
   "outputs": [
    {
     "name": "stdout",
     "output_type": "stream",
     "text": [
      "start_node :1\n",
      "goal_node :16\n"
     ]
    },
    {
     "data": {
      "text/plain": [
       "{'solution_1': {'path': ('1', '3', '7', '12', '16'), 'cost': 12},\n",
       " 'solution_2': {'path': ('1', '2', '5', '11', '16'), 'cost': 13}}"
      ]
     },
     "execution_count": 4,
     "metadata": {},
     "output_type": "execute_result"
    }
   ],
   "source": [
    "ucs = UCS()\n",
    "\n",
    "start_node = input(\"start_node :\")\n",
    "\n",
    "goal_node = input(\"goal_node :\")\n",
    "\n",
    "ucs.Search(ucs.getData(\"ucs.txt\"), start = start_node, goal = goal_node)"
   ]
  },
  {
   "cell_type": "code",
   "execution_count": null,
   "id": "80474c89",
   "metadata": {},
   "outputs": [],
   "source": []
  }
 ],
 "metadata": {
  "kernelspec": {
   "display_name": "Python 3 (ipykernel)",
   "language": "python",
   "name": "python3"
  },
  "language_info": {
   "codemirror_mode": {
    "name": "ipython",
    "version": 3
   },
   "file_extension": ".py",
   "mimetype": "text/x-python",
   "name": "python",
   "nbconvert_exporter": "python",
   "pygments_lexer": "ipython3",
   "version": "3.7.0"
  }
 },
 "nbformat": 4,
 "nbformat_minor": 5
}
