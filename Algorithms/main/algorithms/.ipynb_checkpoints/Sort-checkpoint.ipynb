{
 "cells": [
  {
   "cell_type": "code",
   "execution_count": 2,
   "id": "efa90de8",
   "metadata": {},
   "outputs": [],
   "source": [
    "from abc import ABC, abstractmethod\n",
    "\n",
    "import numpy as np\n",
    "\n",
    "import torch\n",
    "\n",
    "import pdb\n",
    "\n",
    "import math"
   ]
  },
  {
   "cell_type": "markdown",
   "id": "dece8ce4",
   "metadata": {},
   "source": [
    "### base class"
   ]
  },
  {
   "cell_type": "code",
   "execution_count": 3,
   "id": "79c68ca2",
   "metadata": {},
   "outputs": [],
   "source": [
    "class Sort(ABC):\n",
    "    \n",
    "    def __init__(self):\n",
    "        \n",
    "        pass\n",
    "        \n",
    "    @abstractmethod    \n",
    "    def doSort(self):\n",
    "        \n",
    "        pass"
   ]
  },
  {
   "cell_type": "markdown",
   "id": "7abc7458",
   "metadata": {},
   "source": [
    "### Merge sort"
   ]
  },
  {
   "cell_type": "code",
   "execution_count": 4,
   "id": "3e89ebf4",
   "metadata": {},
   "outputs": [],
   "source": [
    "class MergeSort(Sort):\n",
    "    \n",
    "    def __init__(self):\n",
    "        \n",
    "        super(MergeSort, self).__init__()\n",
    "        \n",
    "    def doSort(self, data_lst):\n",
    "        \n",
    "        length = len(data_lst)\n",
    "        \n",
    "        middle_length = math.ceil(length / 2)\n",
    "        \n",
    "        if middle_length == 1:\n",
    "            \n",
    "            if length == 1:\n",
    "                \n",
    "                return data_lst\n",
    "                \n",
    "            else:\n",
    "                \n",
    "                if data_lst[0] > data_lst[1]:\n",
    "                    \n",
    "                    return list(reversed(data_lst))\n",
    "                    \n",
    "                else:\n",
    "                    \n",
    "                    return data_lst\n",
    "           \n",
    "        else:\n",
    "            \n",
    "            left_data_lst = data_lst[0: middle_length]\n",
    "            \n",
    "            right_data_lst = data_lst[middle_length : ]\n",
    "            \n",
    "            sorted_left_part = self.doSort(left_data_lst)\n",
    "            \n",
    "            sorted_right_part = self.doSort(right_data_lst)\n",
    "            \n",
    "            merged_lst = self.Merge(sorted_left_part, sorted_right_part)\n",
    "            \n",
    "            return merged_lst\n",
    "        \n",
    "        \n",
    "            \n",
    "    def Merge(self, lst_1, lst_2):\n",
    "        \n",
    "        lst_length_1, lst_length_2 = len(lst_1), len(lst_2)\n",
    "            \n",
    "        lst_1_index, lst_2_index = 0, 0\n",
    "        \n",
    "        merged_lst = []\n",
    "        \n",
    "        while lst_1_index != lst_length_1 and lst_2_index != lst_length_2:\n",
    "            \n",
    "            node_1, node_2 = lst_1[lst_1_index], lst_2[lst_2_index]\n",
    "            \n",
    "            if node_1 < node_2:\n",
    "                \n",
    "                merged_lst.append(node_1)\n",
    "                \n",
    "                lst_1_index += 1\n",
    "                \n",
    "            else:\n",
    "                \n",
    "                merged_lst.append(node_2)\n",
    "                \n",
    "                lst_2_index += 1\n",
    "                \n",
    "        if lst_1_index == lst_length_1:\n",
    "            \n",
    "            merged_lst.extend(lst_2[lst_2_index : ])\n",
    "            \n",
    "        else:\n",
    "            \n",
    "            merged_lst.extend(lst_1[lst_1_index : ]) \n",
    "            \n",
    "        return merged_lst"
   ]
  },
  {
   "cell_type": "markdown",
   "id": "92bab729",
   "metadata": {},
   "source": [
    "### test "
   ]
  },
  {
   "cell_type": "code",
   "execution_count": 5,
   "id": "d2346318",
   "metadata": {},
   "outputs": [
    {
     "data": {
      "text/plain": [
       "[3, 9, 10, 27, 38, 43, 82]"
      ]
     },
     "execution_count": 5,
     "metadata": {},
     "output_type": "execute_result"
    }
   ],
   "source": [
    "data = [38, 27, 43, 3, 9, 82, 10]\n",
    "\n",
    "merge = MergeSort()\n",
    "\n",
    "merge.doSort(data)"
   ]
  },
  {
   "cell_type": "markdown",
   "id": "14d0f193",
   "metadata": {},
   "source": [
    "### Quick Sort"
   ]
  },
  {
   "cell_type": "code",
   "execution_count": 6,
   "id": "4e82c692",
   "metadata": {},
   "outputs": [],
   "source": [
    "class QuickSort(Sort):\n",
    "    \n",
    "    def __init__(self):\n",
    "        \n",
    "        super(QuickSort, self).__init__()\n",
    "        \n",
    "    def doSort(self, data_lst):\n",
    "        \n",
    "        if len(data_lst) == 0:\n",
    "            \n",
    "            return []\n",
    "        \n",
    "        pivot = data_lst[-1]\n",
    "        \n",
    "        low, high = 0, len(data_lst) - 1\n",
    "        \n",
    "        replace_index = 0\n",
    "        \n",
    "        for index in range(low, high):\n",
    "            \n",
    "            if data_lst[index] < pivot:\n",
    "                \n",
    "                passive_var = data_lst[index]\n",
    "                \n",
    "                data_lst[index] = data_lst[replace_index]\n",
    "                \n",
    "                data_lst[replace_index] = passive_var\n",
    "                \n",
    "                replace_index += 1\n",
    "                \n",
    "        passive_var = data_lst[replace_index]\n",
    "\n",
    "        data_lst[replace_index] = data_lst[high]\n",
    "\n",
    "        data_lst[high] = passive_var\n",
    "            \n",
    "        if len(data_lst) == 2:\n",
    "            \n",
    "            return data_lst\n",
    "            \n",
    "        first_low, first_high = 0, replace_index\n",
    "        \n",
    "        second_low, second_high = replace_index + 1, len(data_lst)\n",
    "            \n",
    "        sorted_lst_1 = self.doSort(data_lst[first_low : first_high])\n",
    "        \n",
    "        sorted_lst_2 = self.doSort(data_lst[second_low : second_high])\n",
    "        \n",
    "        sorted_lst_1.extend([pivot])\n",
    "        \n",
    "        sorted_lst_1.extend(sorted_lst_2)\n",
    "        \n",
    "        goal_lst = sorted_lst_1\n",
    "        \n",
    "        return goal_lst\n"
   ]
  },
  {
   "cell_type": "markdown",
   "id": "4ced106f",
   "metadata": {},
   "source": [
    "### Test"
   ]
  },
  {
   "cell_type": "code",
   "execution_count": 7,
   "id": "279a80bf",
   "metadata": {},
   "outputs": [
    {
     "data": {
      "text/plain": [
       "[3, 9, 10, 27, 38, 43, 82]"
      ]
     },
     "execution_count": 7,
     "metadata": {},
     "output_type": "execute_result"
    }
   ],
   "source": [
    "# data = [3, 44, 38, 5, 47, 15, 36, 26, 27, 2, 46, 4, 4, 19, 50, 48]\n",
    "\n",
    "#data = [38, 27, 43, 3, 9, 82, 10]\n",
    "\n",
    "quicksort = QuickSort()\n",
    "\n",
    "quicksort.doSort(data)"
   ]
  },
  {
   "cell_type": "markdown",
   "id": "77b2fde1",
   "metadata": {},
   "source": [
    "### HEAPS (heapify and heap sort, delete)"
   ]
  },
  {
   "cell_type": "code",
   "execution_count": 11,
   "id": "486290d2",
   "metadata": {},
   "outputs": [],
   "source": [
    "class Heap(Sort):\n",
    "    \n",
    "    def __init__(self):\n",
    "        \n",
    "        super(Heap, self).__init__()\n",
    "        \n",
    "    def doSort(self, data):\n",
    "        \n",
    "        sorted_lst = [0 for index in range(len(data))]\n",
    "        \n",
    "        for index in range(len(data) - 1, -1, -1 ):\n",
    "            \n",
    "            passive = data[0]\n",
    "            \n",
    "            data[0] = data[-1]\n",
    "            \n",
    "            data.pop()\n",
    "\n",
    "            sorted_lst[index] = passive\n",
    "            \n",
    "            if len(data) == 0:\n",
    "                \n",
    "                break\n",
    "            \n",
    "            self.heapify(data, index = 0)\n",
    "            \n",
    "        return sorted_lst\n",
    "\n",
    "    \n",
    "    def createHeap(self, data):\n",
    "        \n",
    "        for index in range(len(data) - 1, -1, -1):\n",
    "            \n",
    "            self.heapify(data, index)\n",
    "            \n",
    "        return data\n",
    "            \n",
    "   \n",
    "    def heapify(self, data, index):\n",
    "        \n",
    "        values = []\n",
    "\n",
    "        parent_node = data[index]\n",
    "        \n",
    "        values.append((parent_node, index))\n",
    "        \n",
    "        if 2 * index + 1 <= len(data) - 1:\n",
    "            \n",
    "            child_1_node = data[2 * index + 1]\n",
    "\n",
    "            values.append((child_1_node, 2 * index + 1))\n",
    "            \n",
    "        if 2 * index + 2 <= len(data) - 1:\n",
    "            \n",
    "            child_2_node = data[2 * index + 2]\n",
    "\n",
    "            values.append((child_2_node, 2 * index + 2))\n",
    "\n",
    "        largest_node_index = self.update(data, values, index)\n",
    "        \n",
    "        if largest_node_index != index:\n",
    "            \n",
    "            self.heapify(data, largest_node_index)\n",
    "            \n",
    "    def r_heapify(self, data, index):\n",
    "        \n",
    "        parent_index, parent_node = math.floor(((index - 1) / 2)), data[math.floor(((index - 1) / 2))]\n",
    "        \n",
    "        if parent_node < data[index]:\n",
    "            \n",
    "            self.replace(data, parent_index, index)\n",
    "            \n",
    "            index = parent_index\n",
    "            \n",
    "            self.r_heapify(data, index)\n",
    "        \n",
    "    def replace(self, data, index_1, index_2):\n",
    "        \n",
    "        passive = data[index_1]\n",
    "        \n",
    "        data[index_1] = data[index_2]\n",
    "        \n",
    "        data[index_2] = passive\n",
    "                                                                                                                  \n",
    "    def update(self, data, values, index):  \n",
    "        \n",
    "        largest_node = max(values)[0]\n",
    "        \n",
    "        largest_node_index = max(values)[1]\n",
    "        \n",
    "        if largest_node_index != index:\n",
    "            \n",
    "            self.replace(data, largest_node_index, index)\n",
    "            \n",
    "        return largest_node_index\n",
    "    \n",
    "    def delete(self, data):\n",
    "        \n",
    "        passive = data[0]\n",
    "            \n",
    "        data[0] = data[-1]\n",
    "\n",
    "        data.pop()\n",
    "                                                                                                                         \n",
    "        self.heapify(data, index = 0)    \n",
    "        \n",
    "    def insert(self, data, value):\n",
    "        \n",
    "        data.append(value)\n",
    "        \n",
    "        self.r_heapify(data, len(data) - 1)                                                                                                             "
   ]
  },
  {
   "cell_type": "markdown",
   "id": "a9187462",
   "metadata": {},
   "source": [
    "### test"
   ]
  },
  {
   "cell_type": "code",
   "execution_count": 12,
   "id": "2f2d1a92",
   "metadata": {},
   "outputs": [
    {
     "data": {
      "text/plain": [
       "[3, 9, 10, 27, 38, 43, 82]"
      ]
     },
     "execution_count": 12,
     "metadata": {},
     "output_type": "execute_result"
    }
   ],
   "source": [
    "data = [38, 27, 43, 3, 9, 82, 10]\n",
    "\n",
    "heap = Heap()\n",
    "\n",
    "data = heap.createHeap(data)\n",
    "\n",
    "heap.doSort(data)"
   ]
  },
  {
   "cell_type": "code",
   "execution_count": null,
   "id": "e26a37a6",
   "metadata": {},
   "outputs": [],
   "source": []
  }
 ],
 "metadata": {
  "kernelspec": {
   "display_name": "Python 3 (ipykernel)",
   "language": "python",
   "name": "python3"
  },
  "language_info": {
   "codemirror_mode": {
    "name": "ipython",
    "version": 3
   },
   "file_extension": ".py",
   "mimetype": "text/x-python",
   "name": "python",
   "nbconvert_exporter": "python",
   "pygments_lexer": "ipython3",
   "version": "3.7.0"
  }
 },
 "nbformat": 4,
 "nbformat_minor": 5
}
