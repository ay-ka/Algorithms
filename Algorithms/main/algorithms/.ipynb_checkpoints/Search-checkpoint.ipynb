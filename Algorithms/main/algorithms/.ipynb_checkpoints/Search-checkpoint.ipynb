{
 "cells": [
  {
   "cell_type": "code",
   "execution_count": 9,
   "id": "0daab9e5",
   "metadata": {},
   "outputs": [],
   "source": [
    "import numpy as p\n",
    "\n",
    "import math\n",
    "\n",
    "import pdb\n",
    "\n",
    "from abc import ABC, abstractmethod"
   ]
  },
  {
   "cell_type": "markdown",
   "id": "fdbd73f4",
   "metadata": {},
   "source": [
    "### base class"
   ]
  },
  {
   "cell_type": "code",
   "execution_count": 10,
   "id": "37cc5610",
   "metadata": {},
   "outputs": [],
   "source": [
    "class Base(ABC):\n",
    "    \n",
    "    def __init__(self):\n",
    "        \n",
    "        pass\n",
    "    \n",
    "    @abstractmethod\n",
    "    def doSearch(self, path):\n",
    "        \n",
    "        pass"
   ]
  },
  {
   "cell_type": "markdown",
   "id": "84d6ea76",
   "metadata": {},
   "source": [
    "### Binary Search"
   ]
  },
  {
   "cell_type": "code",
   "execution_count": 79,
   "id": "c68b0c4d",
   "metadata": {},
   "outputs": [],
   "source": [
    "class BinarySearch(Base):\n",
    "    \n",
    "    def __init__(self):\n",
    "        \n",
    "        pass\n",
    "    \n",
    "    def doSearch(self, data, x, left, right):\n",
    "        \n",
    "        #pdb.set_trace()\n",
    "        \n",
    "        middle = left + (right - left) // 2\n",
    "        \n",
    "        if middle == len(data): \n",
    "            \n",
    "            return \"not detected\"\n",
    "        \n",
    "        if data[middle] == x:\n",
    "            \n",
    "            return middle\n",
    "        \n",
    "        if middle == 0:\n",
    "            \n",
    "            return \"not detected\"\n",
    "        \n",
    "        if data[middle] < x:\n",
    "            \n",
    "            index = self.doSearch(data, x, middle + 1, right)\n",
    "            \n",
    "        else:\n",
    "            \n",
    "            index = self.doSearch(data, x, left, middle -1)\n",
    "            \n",
    "        return index"
   ]
  },
  {
   "cell_type": "code",
   "execution_count": 80,
   "id": "28a760ed",
   "metadata": {},
   "outputs": [
    {
     "data": {
      "text/plain": [
       "'not detected'"
      ]
     },
     "execution_count": 80,
     "metadata": {},
     "output_type": "execute_result"
    }
   ],
   "source": [
    "obj = BinarySearch()\n",
    "\n",
    "data = [3,6,7,8,9,12,16]\n",
    "\n",
    "obj.doSearch(data, 17, 0, len(data))"
   ]
  },
  {
   "cell_type": "markdown",
   "id": "922c04ae",
   "metadata": {},
   "source": [
    "### fibunachi search"
   ]
  },
  {
   "cell_type": "code",
   "execution_count": 103,
   "id": "db556bb2",
   "metadata": {},
   "outputs": [],
   "source": [
    "class FibunachiSearch:\n",
    "    \n",
    "    def __init__(self):\n",
    "        \n",
    "        pass\n",
    "    \n",
    "    def doSearch(self, data, value, array_length):\n",
    "        \n",
    "        fib_main, fib_1, fib_2 = self.findSmallGreaterLength(array_length)\n",
    "        \n",
    "        offfset = -1\n",
    "        \n",
    "        target_index = min(fib_2 + offset, array_length - 1)\n",
    "        \n",
    "        if data[target_index] < value:\n",
    "            \n",
    "            fib_main = fib_1\n",
    "            \n",
    "            fib_1 = fib_2\n",
    "            \n",
    "            fib_2 = fib_main - fib_1\n",
    "            \n",
    "            offset = target_index\n",
    "            \n",
    "        elif data[target_index] > value:\n",
    "            \n",
    "            fib_main = fib_2\n",
    "            \n",
    "            fib_1 = fib_1 - fib_2\n",
    "            \n",
    "            fib_2 = fib_main - fib_1\n",
    "            \n",
    "        else:\n",
    "            \n",
    "            return target_index\n",
    "        \n",
    "        return \"not finded\"\n",
    "    \n",
    "    def findSmallGreaterLength(self, array_length):\n",
    "        \n",
    "        fib_2, fib_1 = 0, 1\n",
    "        \n",
    "        fib_main = fib_2 + fib_1\n",
    "        \n",
    "        while fib_main < array_length:\n",
    "            \n",
    "            fib_2 = fib_1\n",
    "            \n",
    "            fib_1 = fib_main\n",
    "            \n",
    "            fib_main = fib_1 + fib_2\n",
    "            \n",
    "        return fib_main, fib_1, fib_2\n",
    "        \n",
    "        "
   ]
  },
  {
   "cell_type": "markdown",
   "id": "ae74f99e",
   "metadata": {},
   "source": [
    "### test"
   ]
  },
  {
   "cell_type": "code",
   "execution_count": 104,
   "id": "e15575bd",
   "metadata": {},
   "outputs": [
    {
     "ename": "UnboundLocalError",
     "evalue": "local variable 'fib_2' referenced before assignment",
     "output_type": "error",
     "traceback": [
      "\u001b[0;31m---------------------------------------------------------------------------\u001b[0m",
      "\u001b[0;31mUnboundLocalError\u001b[0m                         Traceback (most recent call last)",
      "\u001b[0;32m/tmp/ipykernel_906/2116640670.py\u001b[0m in \u001b[0;36m<module>\u001b[0;34m\u001b[0m\n\u001b[1;32m      7\u001b[0m \u001b[0mfibunachi\u001b[0m \u001b[0;34m=\u001b[0m \u001b[0mFibunachiSearch\u001b[0m\u001b[0;34m(\u001b[0m\u001b[0;34m)\u001b[0m\u001b[0;34m\u001b[0m\u001b[0m\n\u001b[1;32m      8\u001b[0m \u001b[0;34m\u001b[0m\u001b[0m\n\u001b[0;32m----> 9\u001b[0;31m \u001b[0mind\u001b[0m \u001b[0;34m=\u001b[0m \u001b[0mfibunachi\u001b[0m\u001b[0;34m.\u001b[0m\u001b[0mdoSearch\u001b[0m\u001b[0;34m(\u001b[0m\u001b[0mdata\u001b[0m\u001b[0;34m,\u001b[0m \u001b[0mvalue\u001b[0m\u001b[0;34m,\u001b[0m \u001b[0marray_length\u001b[0m\u001b[0;34m)\u001b[0m\u001b[0;34m\u001b[0m\u001b[0m\n\u001b[0m",
      "\u001b[0;32m/tmp/ipykernel_906/2363598851.py\u001b[0m in \u001b[0;36mdoSearch\u001b[0;34m(self, data, value, array_length)\u001b[0m\n\u001b[1;32m     11\u001b[0m         \u001b[0mofffset\u001b[0m \u001b[0;34m=\u001b[0m \u001b[0;34m-\u001b[0m\u001b[0;36m1\u001b[0m\u001b[0;34m\u001b[0m\u001b[0m\n\u001b[1;32m     12\u001b[0m \u001b[0;34m\u001b[0m\u001b[0m\n\u001b[0;32m---> 13\u001b[0;31m         \u001b[0mtarget_index\u001b[0m \u001b[0;34m=\u001b[0m \u001b[0mmin\u001b[0m\u001b[0;34m(\u001b[0m\u001b[0mfib_2\u001b[0m \u001b[0;34m+\u001b[0m \u001b[0moffset\u001b[0m\u001b[0;34m,\u001b[0m \u001b[0marray_length\u001b[0m \u001b[0;34m-\u001b[0m \u001b[0;36m1\u001b[0m\u001b[0;34m)\u001b[0m\u001b[0;34m\u001b[0m\u001b[0m\n\u001b[0m\u001b[1;32m     14\u001b[0m \u001b[0;34m\u001b[0m\u001b[0m\n\u001b[1;32m     15\u001b[0m         \u001b[0;32mif\u001b[0m \u001b[0mdata\u001b[0m\u001b[0;34m[\u001b[0m\u001b[0mtarget_index\u001b[0m\u001b[0;34m]\u001b[0m \u001b[0;34m<\u001b[0m \u001b[0mvalue\u001b[0m\u001b[0;34m:\u001b[0m\u001b[0;34m\u001b[0m\u001b[0m\n",
      "\u001b[0;31mUnboundLocalError\u001b[0m: local variable 'fib_2' referenced before assignment"
     ]
    }
   ],
   "source": [
    "data = [10, 22, 35, 40, 45, 50,80, 82, 85, 90, 100, 235]\n",
    "\n",
    "array_length = len(data)\n",
    "\n",
    "value = 10\n",
    "\n",
    "fibunachi = FibunachiSearch()\n",
    "\n",
    "ind = fibunachi.doSearch(data, value, array_length)"
   ]
  },
  {
   "cell_type": "code",
   "execution_count": 96,
   "id": "e87a3768",
   "metadata": {},
   "outputs": [
    {
     "name": "stdout",
     "output_type": "stream",
     "text": [
      "-1\n",
      "300 isn't present in the array\n"
     ]
    }
   ],
   "source": [
    "# Python3 program for Fibonacci search.\n",
    "from bisect import bisect_left\n",
    " \n",
    "# Returns index of x if present,  else\n",
    "# returns -1\n",
    " \n",
    " \n",
    "def fibMonaccianSearch(arr, x, n):\n",
    "    \n",
    "    \n",
    "    # Initialize fibonacci numbers\n",
    "    fibMMm2 = 0  # (m-2)'th Fibonacci No.\n",
    "    fibMMm1 = 1  # (m-1)'th Fibonacci No.\n",
    "    fibM = fibMMm2 + fibMMm1  # m'th Fibonacci\n",
    " \n",
    "    # fibM is going to store the smallest\n",
    "    # Fibonacci Number greater than or equal to n\n",
    "    while (fibM < n):\n",
    "        fibMMm2 = fibMMm1\n",
    "        fibMMm1 = fibM\n",
    "        fibM = fibMMm2 + fibMMm1\n",
    " \n",
    "    # Marks the eliminated range from front\n",
    "    offset = -1\n",
    " \n",
    "    # while there are elements to be inspected.\n",
    "    # Note that we compare arr[fibMm2] with x.\n",
    "    # When fibM becomes 1, fibMm2 becomes 0\n",
    "    while (fibM > 1):\n",
    " \n",
    "        # Check if fibMm2 is a valid location\n",
    "        i = min(offset+fibMMm2, n-1)\n",
    " \n",
    "        # If x is greater than the value at\n",
    "        # index fibMm2, cut the subarray array\n",
    "        # from offset to i\n",
    "        if (arr[i] < x):\n",
    "            fibM = fibMMm1\n",
    "            fibMMm1 = fibMMm2\n",
    "            fibMMm2 = fibM - fibMMm1\n",
    "            offset = i\n",
    " \n",
    "        # If x is less than the value at\n",
    "        # index fibMm2, cut the subarray\n",
    "        # after i+1\n",
    "        elif (arr[i] > x):\n",
    "            fibM = fibMMm2\n",
    "            fibMMm1 = fibMMm1 - fibMMm2\n",
    "            fibMMm2 = fibM - fibMMm1\n",
    " \n",
    "        # element found. return index\n",
    "        else:\n",
    "            return i\n",
    " \n",
    "    # comparing the last element with x */\n",
    "    if(fibMMm1 and arr[n-1] == x):\n",
    "        return n-1\n",
    " \n",
    "    # element not found. return -1\n",
    "    return -1\n",
    " \n",
    " \n",
    "# Driver Code\n",
    "arr = [10, 22, 35, 40, 45, 50,\n",
    "       80, 82, 85, 90, 100, 235]\n",
    "n = len(arr)\n",
    "x = 300\n",
    "ind = fibMonaccianSearch(arr, x, n)\n",
    "print(ind)\n",
    "if ind>=0:\n",
    "  print(\"Found at index:\",ind)\n",
    "else:\n",
    "  print(x,\"isn't present in the array\");\n",
    " \n",
    "# This code is contributed by rishabh_jain"
   ]
  },
  {
   "cell_type": "code",
   "execution_count": null,
   "id": "bf9ce411",
   "metadata": {},
   "outputs": [],
   "source": []
  }
 ],
 "metadata": {
  "kernelspec": {
   "display_name": "Python 3 (ipykernel)",
   "language": "python",
   "name": "python3"
  },
  "language_info": {
   "codemirror_mode": {
    "name": "ipython",
    "version": 3
   },
   "file_extension": ".py",
   "mimetype": "text/x-python",
   "name": "python",
   "nbconvert_exporter": "python",
   "pygments_lexer": "ipython3",
   "version": "3.7.0"
  }
 },
 "nbformat": 4,
 "nbformat_minor": 5
}
