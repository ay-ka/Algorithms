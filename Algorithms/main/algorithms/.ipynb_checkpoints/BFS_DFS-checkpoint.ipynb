{
 "cells": [
  {
   "cell_type": "code",
   "execution_count": 122,
   "id": "39c8d667",
   "metadata": {},
   "outputs": [],
   "source": [
    "import numpy\n",
    "\n",
    "import math\n",
    "\n",
    "import pdb\n",
    "\n",
    "from abc import ABC, abstractmethod"
   ]
  },
  {
   "cell_type": "markdown",
   "id": "0feb32de",
   "metadata": {},
   "source": [
    "### Base Class"
   ]
  },
  {
   "cell_type": "code",
   "execution_count": 295,
   "id": "508127b7",
   "metadata": {},
   "outputs": [],
   "source": [
    "class Algo(ABC):\n",
    "    \n",
    "    def __init__(self):\n",
    "        \n",
    "        pass\n",
    "    \n",
    "    def getData(self, file_path):\n",
    "        \n",
    "        data = {}\n",
    "        \n",
    "        with open(file_path, \"r\") as f:\n",
    "            \n",
    "            # get line\n",
    "            \n",
    "            line = f.readline()\n",
    "            \n",
    "            # remove scraps\n",
    "            \n",
    "            line = line.strip()\n",
    "            \n",
    "            # split to key and value\n",
    "            \n",
    "            key_value_lst = line.split()\n",
    "            \n",
    "            while line != \"\":\n",
    "                \n",
    "                key, value = key_value_lst[0], key_value_lst[1]\n",
    "                \n",
    "                if data.get(key) != None and data.get(value) != None:\n",
    "                    \n",
    "                    data[key].append(value)                    \n",
    "                    \n",
    "                    data[value].append(key)\n",
    "                        \n",
    "                elif data.get(key) != None:\n",
    "                    \n",
    "                    data[value] = [key]\n",
    "                    \n",
    "                    data[key].append(value)\n",
    "                    \n",
    "                elif data.get(value) != None:\n",
    "                    \n",
    "                    data[key] = [value]\n",
    "                    \n",
    "                    data[value].append(key)\n",
    "                    \n",
    "                else:\n",
    "                    \n",
    "                    data[key] = [value]\n",
    "                    \n",
    "                    data[value] = [key]   \n",
    "                    \n",
    "                # get line\n",
    "\n",
    "                line = f.readline()\n",
    "\n",
    "                # remove scraps\n",
    "\n",
    "                line = line.strip()\n",
    "\n",
    "                # split to key and value\n",
    "\n",
    "                key_value_lst = line.split()\n",
    "\n",
    "        return data\n",
    "    \n",
    "    @abstractmethod\n",
    "    def Search(self, data):\n",
    "        \n",
    "        pass\n",
    "    \n",
    "    @abstractmethod\n",
    "    def checkVisited(self, adjacency_list):\n",
    "        \n",
    "        raise NotImplementedError()"
   ]
  },
  {
   "cell_type": "markdown",
   "id": "2992e90d",
   "metadata": {},
   "source": [
    "### BFS implementation"
   ]
  },
  {
   "cell_type": "code",
   "execution_count": 296,
   "id": "a676e069",
   "metadata": {},
   "outputs": [],
   "source": [
    "class BFS(Algo):\n",
    "    \n",
    "    def __init__(self):\n",
    "        \n",
    "        super(BFS, self).__init__()\n",
    "        \n",
    "    def Search(self, data, start, goal):\n",
    "        \n",
    "        start, goal = str(start), str(goal)\n",
    "        \n",
    "        queue = []\n",
    "        \n",
    "        visited = []\n",
    "        \n",
    "        adjacency_nodes = data.get(start)\n",
    "        \n",
    "        visited.append(start)\n",
    "        \n",
    "        queue.append(start)\n",
    "        \n",
    "        while len(queue):\n",
    "        \n",
    "            adjacency_nodes = self.checkVisited(adjacency_nodes, visited)\n",
    "\n",
    "            adjacency_nodes = self.check_container(adjacency_nodes, queue)\n",
    "            \n",
    "            try:\n",
    "            \n",
    "                adjacency_nodes = list(map(lambda x : str(x), sorted(list(map(lambda x : int(x), adjacency_nodes)))))\n",
    "                \n",
    "            except:\n",
    "                \n",
    "                adjacency_nodes.sort()\n",
    "\n",
    "            queue.extend(adjacency_nodes)\n",
    "            \n",
    "            queue.pop(0)\n",
    "            \n",
    "            next_node = queue[0]\n",
    "            \n",
    "            visited.append(next_node)\n",
    "            \n",
    "            adjacency_nodes = data[next_node]\n",
    "            \n",
    "            if next_node == goal:\n",
    "                \n",
    "                break\n",
    "                \n",
    "        return visited\n",
    "        \n",
    "    def checkVisited(self, adjacency_nodes, visited):\n",
    "    \n",
    "        return list(filter(lambda x : not(x in visited), adjacency_nodes))\n",
    "    \n",
    "    def check_container(self, adjacency_nodes, queue):\n",
    "        \n",
    "        return list(filter(lambda x : not(x in queue), adjacency_nodes))"
   ]
  },
  {
   "cell_type": "markdown",
   "id": "a3d76e04",
   "metadata": {},
   "source": [
    "### DFS implementation"
   ]
  },
  {
   "cell_type": "code",
   "execution_count": 299,
   "id": "47b428bf",
   "metadata": {},
   "outputs": [],
   "source": [
    "class DFS(Algo):\n",
    "    \n",
    "    def __init__(self):\n",
    "        \n",
    "        super(DFS, self).__init__()\n",
    "        \n",
    "    def Search(self, data, start, goal):\n",
    "        \n",
    "        start, goal = str(start), str(goal)\n",
    "        \n",
    "        stack, visited = [], []\n",
    "        \n",
    "        current_node = start\n",
    "        \n",
    "        stack.append(start)\n",
    "        \n",
    "        visited.append(start)\n",
    "        \n",
    "        adjacency_nodes = data.get(start)\n",
    "        \n",
    "        stack.pop(-1)\n",
    "        \n",
    "        while current_node != goal:\n",
    "            \n",
    "            adjacency_nodes = self.checkVisited(adjacency_nodes, visited)\n",
    "            \n",
    "            try:\n",
    "            \n",
    "                adjacency_nodes = list(map(lambda x : str(x), sorted(list(map(lambda x : int(x), adjacency_nodes)))))\n",
    "                \n",
    "            except:\n",
    "                \n",
    "                adjacency_nodes.sort()\n",
    "            \n",
    "            adjacency_nodes = list(reversed(adjacency_nodes))\n",
    "            \n",
    "            stack.extend(adjacency_nodes)\n",
    "            \n",
    "            current_node = stack.pop(-1)\n",
    "            \n",
    "            visited.append(current_node)\n",
    "            \n",
    "            adjacency_nodes = data.get(current_node)\n",
    "            \n",
    "        return visited\n",
    "        \n",
    "    def checkVisited(self, adjacency_nodes, visited):\n",
    "    \n",
    "        return list(filter(lambda x : not(x in visited), adjacency_nodes))"
   ]
  },
  {
   "cell_type": "markdown",
   "id": "277730c9",
   "metadata": {},
   "source": [
    "### run BFS"
   ]
  },
  {
   "cell_type": "code",
   "execution_count": 301,
   "id": "9884005d",
   "metadata": {},
   "outputs": [
    {
     "name": "stdout",
     "output_type": "stream",
     "text": [
      "start node :9\n",
      "goal node :10\n"
     ]
    },
    {
     "data": {
      "text/plain": [
       "['9', '1', '3', '2', '5', '4', '6', '10']"
      ]
     },
     "execution_count": 301,
     "metadata": {},
     "output_type": "execute_result"
    }
   ],
   "source": [
    "# run BFS\n",
    "\n",
    "start = input(\"start node :\")\n",
    "\n",
    "goal = input(\"goal node :\")\n",
    "\n",
    "bfs = BFS()\n",
    "\n",
    "data = bfs.getData(\"data.txt\")\n",
    "\n",
    "bfs.Search(data, start, goal)"
   ]
  },
  {
   "cell_type": "markdown",
   "id": "a1a10e87",
   "metadata": {},
   "source": [
    "### run DFS"
   ]
  },
  {
   "cell_type": "code",
   "execution_count": 302,
   "id": "642dd4a3",
   "metadata": {},
   "outputs": [
    {
     "name": "stdout",
     "output_type": "stream",
     "text": [
      "start node :9\n",
      "goal node :10\n"
     ]
    },
    {
     "data": {
      "text/plain": [
       "['9', '1', '2', '4', '3', '10']"
      ]
     },
     "execution_count": 302,
     "metadata": {},
     "output_type": "execute_result"
    }
   ],
   "source": [
    "# run DFS\n",
    "\n",
    "start = input(\"start node :\")\n",
    "\n",
    "goal = input(\"goal node :\")\n",
    "\n",
    "dfs = DFS()\n",
    "\n",
    "data = dfs.getData(\"data.txt\")\n",
    "\n",
    "dfs.Search(data, start, goal)"
   ]
  }
 ],
 "metadata": {
  "kernelspec": {
   "display_name": "Python 3 (ipykernel)",
   "language": "python",
   "name": "python3"
  },
  "language_info": {
   "codemirror_mode": {
    "name": "ipython",
    "version": 3
   },
   "file_extension": ".py",
   "mimetype": "text/x-python",
   "name": "python",
   "nbconvert_exporter": "python",
   "pygments_lexer": "ipython3",
   "version": "3.7.0"
  }
 },
 "nbformat": 4,
 "nbformat_minor": 5
}
