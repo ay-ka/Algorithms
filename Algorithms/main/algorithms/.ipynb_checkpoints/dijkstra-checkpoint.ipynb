{
 "cells": [
  {
   "cell_type": "code",
   "execution_count": 14,
   "id": "49737412",
   "metadata": {},
   "outputs": [],
   "source": [
    "import numpy as np\n",
    "\n",
    "import math\n",
    "\n",
    "import pdb"
   ]
  },
  {
   "cell_type": "code",
   "execution_count": 33,
   "id": "e45aa394",
   "metadata": {},
   "outputs": [],
   "source": [
    "class Dijkstra:\n",
    "    \n",
    "    def __init__(self):\n",
    "        \n",
    "        pass\n",
    "    \n",
    "    def getData(self, path):\n",
    "        \n",
    "        data = {}\n",
    "        \n",
    "        with open(path, \"r\") as f:\n",
    "            \n",
    "            line = f.readline()\n",
    "            \n",
    "            line = line.strip()\n",
    "            \n",
    "            origin_target_cost = line.split()\n",
    "            \n",
    "            while line != \"\":\n",
    "                \n",
    "                origin, target, cost = origin_target_cost[0], origin_target_cost[1], origin_target_cost[2]\n",
    "                \n",
    "                if data.get(origin) is None:\n",
    "                    \n",
    "                    data[origin] = {\"nodes\" : {target : int(cost)}, \"value\" : math.inf}\n",
    "                    \n",
    "                else:\n",
    "                    \n",
    "                    data[origin][\"nodes\"].update({target : int(cost)})\n",
    "                    \n",
    "                if data.get(target) is None:\n",
    "                    \n",
    "                    data[target] = {\"nodes\" : {}, \"value\" : math.inf}\n",
    "                    \n",
    "                line = f.readline()\n",
    "\n",
    "                line = line.strip()\n",
    "\n",
    "                origin_target_cost = line.split()\n",
    "                \n",
    "        return data\n",
    "    \n",
    "    def Search(self, data, start):\n",
    "        \n",
    "        visited, options = [], {}\n",
    "        \n",
    "        data[start][\"value\"] = 0\n",
    "        \n",
    "        options.update({start : data[start][\"value\"]})\n",
    "        \n",
    "        while len(list(options.keys())) != 0:\n",
    "            \n",
    "            current_node = min(options, key = options.get)\n",
    "            \n",
    "            adjacency_nodes = data[current_node][\"nodes\"]\n",
    "            \n",
    "            visited.append(current_node)\n",
    "        \n",
    "            valid_adjacencies = self.checkVisited(adjacency_nodes, visited)\n",
    "\n",
    "            for node in valid_adjacencies:\n",
    "\n",
    "                if data[current_node][\"value\"] + data[current_node]['nodes'][node] < data[node][\"value\"]:\n",
    "\n",
    "                    data[node][\"value\"] = data[current_node][\"value\"] + data[current_node]['nodes'][node] \n",
    "                    \n",
    "            del options[current_node]\n",
    "                    \n",
    "            options.update({node : data[node][\"value\"] for node in valid_adjacencies})\n",
    "        \n",
    "        \n",
    "    def checkVisited(self, adjacency_nodes, visited):\n",
    "        \n",
    "        return list(filter(lambda x : not(x in visited), adjacency_nodes))"
   ]
  },
  {
   "cell_type": "code",
   "execution_count": 38,
   "id": "e21291c5",
   "metadata": {},
   "outputs": [
    {
     "data": {
      "text/plain": [
       "{'1': {'nodes': {'2': 2, '3': 4}, 'value': 0},\n",
       " '2': {'nodes': {'3': 1, '4': 7}, 'value': 2},\n",
       " '3': {'nodes': {'5': 3}, 'value': 3},\n",
       " '4': {'nodes': {'6': 1}, 'value': 8},\n",
       " '5': {'nodes': {'4': 2, '6': 5}, 'value': 6},\n",
       " '6': {'nodes': {}, 'value': 9}}"
      ]
     },
     "execution_count": 38,
     "metadata": {},
     "output_type": "execute_result"
    }
   ],
   "source": [
    "dijkstra = Dijkstra()\n",
    "\n",
    "path = \"dijkstra.txt\"\n",
    "\n",
    "data = dijkstra.getData(path)\n",
    "\n",
    "dijkstra.Search(data, start = \"1\")\n",
    "\n",
    "data"
   ]
  },
  {
   "cell_type": "code",
   "execution_count": null,
   "id": "48528164",
   "metadata": {},
   "outputs": [],
   "source": []
  }
 ],
 "metadata": {
  "kernelspec": {
   "display_name": "Python 3 (ipykernel)",
   "language": "python",
   "name": "python3"
  },
  "language_info": {
   "codemirror_mode": {
    "name": "ipython",
    "version": 3
   },
   "file_extension": ".py",
   "mimetype": "text/x-python",
   "name": "python",
   "nbconvert_exporter": "python",
   "pygments_lexer": "ipython3",
   "version": "3.7.0"
  }
 },
 "nbformat": 4,
 "nbformat_minor": 5
}
