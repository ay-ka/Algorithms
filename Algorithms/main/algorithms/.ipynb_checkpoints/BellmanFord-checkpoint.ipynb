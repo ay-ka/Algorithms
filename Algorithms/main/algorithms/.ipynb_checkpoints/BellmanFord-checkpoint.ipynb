{
 "cells": [
  {
   "cell_type": "code",
   "execution_count": 1,
   "id": "1b11a85a",
   "metadata": {},
   "outputs": [],
   "source": [
    "import numpy\n",
    "\n",
    "import torch\n",
    "\n",
    "import pdb\n",
    "\n",
    "import math"
   ]
  },
  {
   "cell_type": "code",
   "execution_count": 2,
   "id": "c8a96c41",
   "metadata": {},
   "outputs": [],
   "source": [
    "class NegativePathError(Exception):\n",
    "    \n",
    "    def __init__(self, message):\n",
    "        \n",
    "        self.message = message\n",
    "        \n",
    "        \n",
    "    def __str__(self):\n",
    "        \n",
    "        self.message = self.message + \" in your data \"\n",
    "        \n",
    "        return self.message"
   ]
  },
  {
   "cell_type": "code",
   "execution_count": 3,
   "id": "9fe31f8d",
   "metadata": {},
   "outputs": [],
   "source": [
    "class Bellman:\n",
    "    \n",
    "    def __init__(self):\n",
    "        \n",
    "        pass\n",
    "    \n",
    "    def getData(self, path):\n",
    "        \n",
    "        data, edges, set_ = {}, [], set()\n",
    "        \n",
    "        with open(path, \"r\") as f:\n",
    "            \n",
    "            line = f.readline()\n",
    "            \n",
    "            line = line.strip()\n",
    "            \n",
    "            origin_target_cost = line.split()\n",
    "            \n",
    "            while line != \"\":\n",
    "                \n",
    "                origin, target, cost = origin_target_cost[0], origin_target_cost[1], origin_target_cost[2]\n",
    "                \n",
    "                edges.append((origin, target))\n",
    "                \n",
    "                if data.get(origin) is None:\n",
    "                    \n",
    "                    data[origin] = {\"nodes\" : {target : int(cost)}, \"value\" : math.inf}\n",
    "                    \n",
    "                else:\n",
    "                    \n",
    "                    data[origin][\"nodes\"].update({target : int(cost)})\n",
    "                    \n",
    "                if data.get(target) is None:\n",
    "                    \n",
    "                    data[target] = {\"nodes\" : {}, \"value\" : math.inf}\n",
    "                    \n",
    "                line = f.readline()\n",
    "\n",
    "                line = line.strip()\n",
    "\n",
    "                origin_target_cost = line.split()\n",
    "                    \n",
    "        return data, edges\n",
    "    \n",
    "    def run(self, data, edges, start, path_error = NegativePathError(\"negative path is detected\")):\n",
    "        \n",
    "        data[start][\"value\"] = 0\n",
    "        \n",
    "        for iteration in range(len(list(data.keys())) - 1):\n",
    "            \n",
    "            for edge in edges:\n",
    "                \n",
    "                origin_node, target_node = edge[0], edge[1]\n",
    "                \n",
    "                if data[origin_node][\"value\"] + data[origin_node][\"nodes\"][target_node] < data[target_node][\"value\"]:\n",
    "                                                                                   \n",
    "                    data[target_node][\"value\"] = data[origin_node][\"value\"] + data[origin_node][\"nodes\"][target_node]\n",
    "                    \n",
    "        for edge in edges:\n",
    "            \n",
    "            origin_node, target_node = edge[0], edge[1]\n",
    "            \n",
    "            if data[origin_node][\"value\"] + data[origin_node][\"nodes\"][target_node] < data[target_node][\"value\"]:\n",
    "                \n",
    "                raise path_error\n",
    "                \n"
   ]
  },
  {
   "cell_type": "markdown",
   "id": "7cce48d2",
   "metadata": {},
   "source": [
    "### test"
   ]
  },
  {
   "cell_type": "code",
   "execution_count": 5,
   "id": "6edba518",
   "metadata": {},
   "outputs": [
    {
     "name": "stdout",
     "output_type": "stream",
     "text": [
      "{'1': {'nodes': {'2': 6, '3': 5, '4': 5}, 'value': inf}, '2': {'nodes': {'5': -1}, 'value': 0}, '3': {'nodes': {'2': -2, '5': 1}, 'value': inf}, '4': {'nodes': {'3': -2, '6': -1}, 'value': inf}, '5': {'nodes': {'7': 3}, 'value': -1}, '6': {'nodes': {'7': 3}, 'value': inf}, '7': {'nodes': {}, 'value': 2}}\n"
     ]
    }
   ],
   "source": [
    "path = \"bellman.txt\"\n",
    "\n",
    "bellman = Bellman()\n",
    "\n",
    "data, edges = bellman.getData(path)\n",
    "\n",
    "bellman.run(data, edges, start = \"2\")\n",
    "\n",
    "print(data)"
   ]
  },
  {
   "cell_type": "code",
   "execution_count": null,
   "id": "0933d85c",
   "metadata": {},
   "outputs": [],
   "source": []
  }
 ],
 "metadata": {
  "kernelspec": {
   "display_name": "Python 3 (ipykernel)",
   "language": "python",
   "name": "python3"
  },
  "language_info": {
   "codemirror_mode": {
    "name": "ipython",
    "version": 3
   },
   "file_extension": ".py",
   "mimetype": "text/x-python",
   "name": "python",
   "nbconvert_exporter": "python",
   "pygments_lexer": "ipython3",
   "version": "3.7.0"
  }
 },
 "nbformat": 4,
 "nbformat_minor": 5
}
